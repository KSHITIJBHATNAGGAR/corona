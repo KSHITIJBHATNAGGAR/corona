{
  "nbformat": 4,
  "nbformat_minor": 0,
  "metadata": {
    "colab": {
      "name": "C-DOT.ipynb",
      "provenance": [],
      "collapsed_sections": [],
      "authorship_tag": "ABX9TyMh+D9pOvYWhISz14YwHz01",
      "include_colab_link": true
    },
    "kernelspec": {
      "name": "python3",
      "display_name": "Python 3"
    }
  },
  "cells": [
    {
      "cell_type": "markdown",
      "metadata": {
        "id": "view-in-github",
        "colab_type": "text"
      },
      "source": [
        "<a href=\"https://colab.research.google.com/github/KSHITIJBHATNAGGAR/corona/blob/master/C_DOT.ipynb\" target=\"_parent\"><img src=\"https://colab.research.google.com/assets/colab-badge.svg\" alt=\"Open In Colab\"/></a>"
      ]
    },
    {
      "cell_type": "code",
      "metadata": {
        "id": "7jbzpP3tWFsn",
        "outputId": "f23c51d7-5371-44e3-f616-3c0dcad27520",
        "colab": {
          "base_uri": "https://localhost:8080/",
          "height": 228
        }
      },
      "source": [
        "import cv2\n",
        "import matplotlib.pyplot as plt \n",
        "import os\n",
        "import statistics as sts\n",
        "\n",
        "import numpy as np\n",
        "import pylab\n",
        "\n",
        "import glob\n",
        "from PIL import Image\n",
        "\n",
        "import xlwt \n",
        "from xlwt import Workbook \n",
        "\n",
        "count=0;\n",
        "images = glob.glob(\"false1/*.jpg\")\n",
        "for image in images:\n",
        "\tprint(image)\n",
        "\twith open(image, 'rb') as file:\n",
        "\t\timg = Image.open(file)\n",
        "\t\tnew_image = img.resize((105, 20),Image.NEAREST)\n",
        "\t\tcount=count+1\n",
        "new_image.save('false2/'+image)\n",
        "\n",
        "\n",
        "\n",
        "# same code\n",
        "img =cv2.imread('new_image.jpg')\n",
        "img = cv2.threshold(img, 127, 255, cv2.THRESH_BINARY)[1]\n",
        "height, width, _ = img.shape\n",
        "print(height,width)\n",
        "sum_i=[]\n",
        "i_val=[]\n",
        "for i in range(width):\n",
        " \ti_val.append(i)\n",
        " \tsum=0\n",
        " \tfor j in range(height):\n",
        " \t\tif img[j,i,1]!=0:\n",
        " \t\t\tsum = sum +1\n",
        " \t\t\t#print(i,j,\"i and j\")\n",
        " \tprint(sum,i,\"of ith column\")\n",
        " \tsum_i.append(sum)\n",
        "\n",
        "plt.plot(i_val,sum_i) \n",
        "# mean\n",
        "#z = sts.mean(sum_i)\n",
        "#print(z)\n",
        "y1 = max(sum_i)\n",
        "print(y1)\n",
        "\n",
        "y2 = min(sum_i)\n",
        "print(y2)\n",
        "\n",
        "y = (y1 + y2)/2\n",
        "print(y) \n",
        "\n",
        "#sum of squares of difference\n",
        "sum_diff = 0\n",
        "for i in sum_i:\n",
        "  sum_diff = sum_diff + (y - i)**2\n",
        "print(sum_diff)\n",
        "\n",
        "\n",
        "  \n",
        "# naming the x axis \n",
        "plt.xlabel('x - axis  column') \n",
        "# naming the y axis \n",
        "plt.ylabel('y - axis sum of pixels') \n",
        "  \n",
        "# # giving a title to my graph \n",
        "plt.title('col vs intensity!') \n",
        "  \n",
        "# # function to show the plot \n",
        "plt.savefig('fig')"
      ],
      "execution_count": 21,
      "outputs": [
        {
          "output_type": "error",
          "ename": "TypeError",
          "evalue": "ignored",
          "traceback": [
            "\u001b[0;31m---------------------------------------------------------------------------\u001b[0m",
            "\u001b[0;31mTypeError\u001b[0m                                 Traceback (most recent call last)",
            "\u001b[0;32m<ipython-input-21-8c9967f08c13>\u001b[0m in \u001b[0;36m<module>\u001b[0;34m()\u001b[0m\n\u001b[1;32m     36\u001b[0m                 \u001b[0mnew_image\u001b[0m \u001b[0;34m=\u001b[0m \u001b[0mimg\u001b[0m\u001b[0;34m.\u001b[0m\u001b[0mresize\u001b[0m\u001b[0;34m(\u001b[0m\u001b[0;34m(\u001b[0m\u001b[0;36m105\u001b[0m\u001b[0;34m,\u001b[0m \u001b[0;36m20\u001b[0m\u001b[0;34m)\u001b[0m\u001b[0;34m,\u001b[0m\u001b[0mImage\u001b[0m\u001b[0;34m.\u001b[0m\u001b[0mNEAREST\u001b[0m\u001b[0;34m)\u001b[0m\u001b[0;34m\u001b[0m\u001b[0;34m\u001b[0m\u001b[0m\n\u001b[1;32m     37\u001b[0m                 \u001b[0mcount\u001b[0m\u001b[0;34m=\u001b[0m\u001b[0mcount\u001b[0m\u001b[0;34m+\u001b[0m\u001b[0;36m1\u001b[0m\u001b[0;34m\u001b[0m\u001b[0;34m\u001b[0m\u001b[0m\n\u001b[0;32m---> 38\u001b[0;31m \u001b[0mnew_image\u001b[0m\u001b[0;34m.\u001b[0m\u001b[0msave\u001b[0m\u001b[0;34m(\u001b[0m\u001b[0;34m'false2/*'\u001b[0m\u001b[0;34m+\u001b[0m\u001b[0mimage\u001b[0m\u001b[0;34m)\u001b[0m\u001b[0;34m\u001b[0m\u001b[0;34m\u001b[0m\u001b[0m\n\u001b[0m\u001b[1;32m     39\u001b[0m \u001b[0;34m\u001b[0m\u001b[0m\n\u001b[1;32m     40\u001b[0m \u001b[0;34m\u001b[0m\u001b[0m\n",
            "\u001b[0;31mTypeError\u001b[0m: must be str, not JpegImageFile"
          ]
        }
      ]
    },
    {
      "cell_type": "code",
      "metadata": {
        "id": "D8d7mAHFufEB"
      },
      "source": [
        ""
      ],
      "execution_count": null,
      "outputs": []
    }
  ]
}